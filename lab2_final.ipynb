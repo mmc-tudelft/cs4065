{
 "cells": [
  {
   "cell_type": "markdown",
   "metadata": {},
   "source": [
    "# Lab 2: Recommender systems\n",
    "\n",
    "Following the lectures of this week, we will now zoom in a bit more into recommender systems.\n",
    "\n",
    "More specifically, we are going to try out matrix factorization on a slice of the first Movielens dataset.\n",
    "\n",
    "## About the Movielens data\n",
    "Movielens (https://movielens.org/) is a movie recommendation service run by the Grouplens (http://grouplens.org/) team at the University of Minnesota. Over the years, the service has been growing considerably, and once every few years, Grouplens releases new anonymized usage data to the community (http://grouplens.org/datasets/movielens/), which have become de facto benchmarking standards in the Recommender Systems research community.\n",
    "\n",
    "In 1998, the first released dataset consisted of 100,000 ratings (1000 users, 1700 movies). The most recently released benchmark dataset (2014) consisted of 20 million ratings (138,000 users, 27,000 movies).\n",
    "\n",
    "In the current lab session, we will not focus on the big data crunching, but rather on getting a better practical feeling on how to handle user-item data, as well as the implications of Matrix Factorization."
   ]
  },
  {
   "cell_type": "markdown",
   "metadata": {},
   "source": [
    "## What to hand in\n",
    "As final deliverable to demonstrate your successful completion of this week's assignment, please submit one file through https://www.dropbox.com/request/pivkEGn4YcqhMDPVwlIs:\n",
    "* A document named <code>[Your_Name].pdf</code> in which you include **three** latent factor scatter plots, obtained for **three different input data slices** (which should differ at least in terms of user population size).\n",
    "\n",
    "For each of the scatter plots, do two things:\n",
    "  * specify the characteristics of your input data;\n",
    "  * based on the plot, give a possible interpretation of what the factors represented by the x and y axes of your plot may indicate.\n",
    "\n",
    "Further instructions can be found further down this notebook, at the point where we give an example plot."
   ]
  },
  {
   "cell_type": "markdown",
   "metadata": {},
   "source": [
    "## Importing the data\n",
    "We have prepared a subset of the Movielens 100k dataset, which should automagically be downloaded to your (virtual) machine:"
   ]
  },
  {
   "cell_type": "code",
   "execution_count": null,
   "metadata": {
    "collapsed": false
   },
   "outputs": [],
   "source": [
    "from datasets import CS4065_Dataset\n",
    "movielens_paths = CS4065_Dataset.get_movielens_subset()"
   ]
  },
  {
   "cell_type": "markdown",
   "metadata": {},
   "source": [
    "<code>movielens_paths</code> is a dictionary, keyed by three file names in the Movielens 100k dataset:\n",
    "* <code>u.data</code>, containing tab-separated rating data (specifying user ID, movie ID, rating, timestamp);\n",
    "* <code>u.user</code>, containing pipe-separated anonymized demographics data for all users in the dataset (specifying user ID, age, gender, occupation, ZIP code);\n",
    "* <code>u.item</code>, containing pipe-separated movie background information (specifying movie ID, title, genres, IMDB URLs, and more)."
   ]
  },
  {
   "cell_type": "code",
   "execution_count": null,
   "metadata": {
    "collapsed": false
   },
   "outputs": [],
   "source": [
    "# Verify the contents of movielens_paths\n",
    "print(movielens_paths)"
   ]
  },
  {
   "cell_type": "markdown",
   "metadata": {},
   "source": [
    "## Selecting analysis data\n",
    "\n",
    "In this lab, we will primarily use data from <code>u.item</code>. The information in <code>u.user</code> is interesting though for assessing potential characterizing user features, and the information in <code>u.item</code> was used by us to manually select a small set of movie IDs, for which we expect that the fan base will show some variation.\n",
    "\n",
    "We put our selection in a <code>movie_data</code> dictionary:"
   ]
  },
  {
   "cell_type": "code",
   "execution_count": null,
   "metadata": {
    "collapsed": false
   },
   "outputs": [],
   "source": [
    "# Initialization of the dictionary.\n",
    "# It will be keyed by movie ID, and have the IMDB movie title as corresponding value.\n",
    "movie_data = {}\n",
    "\n",
    "# We now populate the dictionary with some manually chosen examples,\n",
    "# for which we expect to see some different underlying fan bases.\n",
    "\n",
    "# First, we add three animated movies about princesses.\n",
    "movie_data[418] = 'Cinderella (1950)'\n",
    "movie_data[538] = 'Anastasia (1997)'\n",
    "movie_data[542] = 'Pocahontas (1995)'\n",
    "# Then, we add three psychological horror movies.\n",
    "movie_data[200] = 'Shining, The (1980)'\n",
    "movie_data[98] = 'Silence of the Lambs, The (1991)'\n",
    "movie_data[185] = 'Psycho (1960)'\n",
    "# Subsequently, we add three musical movies.\n",
    "movie_data[186] = 'Blues Brothers, The (1980)'\n",
    "movie_data[451] = 'Grease (1978)'\n",
    "movie_data[289] = 'Evita (1996)'\n",
    "# And finally, we add three movies taking place in space.\n",
    "movie_data[50] = 'Star Wars (1977)'\n",
    "movie_data[89] = 'Blade Runner (1982)'\n",
    "movie_data[135] = '2001: A Space Odyssey (1968)'\n",
    "\n",
    "# Now, we have a dictionary with 12 items:\n",
    "print(movie_data)\n",
    "print('\\nMovie %d is titled \"%s\".' % (200, movie_data[200]))"
   ]
  },
  {
   "cell_type": "markdown",
   "metadata": {},
   "source": [
    "## Extracting the rating data\n",
    "\n",
    "Next step: we won't look at 100,000 ratings, but **only at ratings for any of these movies**.\n",
    "\n",
    "Let's first put the IDs of the movies we are interested in in a separate variable."
   ]
  },
  {
   "cell_type": "code",
   "execution_count": null,
   "metadata": {
    "collapsed": false
   },
   "outputs": [],
   "source": [
    "movies_considered = movie_data.keys()\n",
    "# For convenience, we will sort the movies by ID.\n",
    "movies_considered = sorted(movies_considered)\n",
    "# How many movies will we consider again?\n",
    "len(movies_considered)"
   ]
  },
  {
   "cell_type": "markdown",
   "metadata": {},
   "source": [
    "For extracting the rating data, we will use the <code>pandas</code> module. It offers some more advanced data structures and corresponding handling capabilities than dictionaries would be capable of.\n",
    "\n",
    "We will illustrate some of the possibilities here, but see http://pandas.pydata.org/ and the documentation at http://pandas.pydata.org/pandas-docs/version/0.17.1/ for more extensive background and more advanced examples."
   ]
  },
  {
   "cell_type": "code",
   "execution_count": null,
   "metadata": {
    "collapsed": false
   },
   "outputs": [],
   "source": [
    "import pandas"
   ]
  },
  {
   "cell_type": "markdown",
   "metadata": {},
   "source": [
    "A first neat feature is that we can use the <code>read_csv</code> function to read formatted data into a so-called DataFrame:"
   ]
  },
  {
   "cell_type": "code",
   "execution_count": null,
   "metadata": {
    "collapsed": false
   },
   "outputs": [],
   "source": [
    "# let's check the help documentation for read_csv\n",
    "help(pandas.read_csv)"
   ]
  },
  {
   "cell_type": "markdown",
   "metadata": {},
   "source": [
    "Clearly, there are many options.\n",
    "What we want to do in the current case, is reading in the <code>u.data</code> file, and giving it proper headers:"
   ]
  },
  {
   "cell_type": "code",
   "execution_count": null,
   "metadata": {
    "collapsed": false
   },
   "outputs": [],
   "source": [
    "all_rating_data = pandas.read_csv(\n",
    "    movielens_paths['u.data'], # path to file to be read\n",
    "    sep = '\\t', # the data we are reading is tab-separated\n",
    "    names = ['user_id', 'movie_id', 'rating', 'timestamp'] # custom indicated names for the columns to be read\n",
    ")"
   ]
  },
  {
   "cell_type": "markdown",
   "metadata": {},
   "source": [
    "In the way they are printed, dataframes may somewhat remind you of database tables:"
   ]
  },
  {
   "cell_type": "code",
   "execution_count": null,
   "metadata": {
    "collapsed": false
   },
   "outputs": [],
   "source": [
    "all_rating_data.head()"
   ]
  },
  {
   "cell_type": "markdown",
   "metadata": {},
   "source": [
    "Some further possibilities:"
   ]
  },
  {
   "cell_type": "code",
   "execution_count": null,
   "metadata": {
    "collapsed": false
   },
   "outputs": [],
   "source": [
    "# return the data at row 3\n",
    "print(all_rating_data.loc[3])"
   ]
  },
  {
   "cell_type": "code",
   "execution_count": null,
   "metadata": {
    "collapsed": false
   },
   "outputs": [],
   "source": [
    "# return the rating of the data at row 3\n",
    "print(all_rating_data.loc[3]['rating'])"
   ]
  },
  {
   "cell_type": "code",
   "execution_count": null,
   "metadata": {
    "collapsed": false
   },
   "outputs": [],
   "source": [
    "# find all rows corresponding to ratings for Cinderella (movie ID 418)\n",
    "cinderella_ratings = all_rating_data.loc[all_rating_data['movie_id'] == 418]"
   ]
  },
  {
   "cell_type": "markdown",
   "metadata": {},
   "source": [
    "## Question\n",
    "How many people rated Cinderella?"
   ]
  },
  {
   "cell_type": "code",
   "execution_count": null,
   "metadata": {
    "collapsed": true
   },
   "outputs": [],
   "source": [
    "# enter your code here"
   ]
  },
  {
   "cell_type": "markdown",
   "metadata": {},
   "source": [
    "## Question\n",
    "Using the <code>cinderella_ratings</code> variable, extract and print the ratings of people who hated Cinderella (that is, who gave the movie a rating of 1)."
   ]
  },
  {
   "cell_type": "code",
   "execution_count": null,
   "metadata": {
    "collapsed": false
   },
   "outputs": [],
   "source": [
    "# replace 'None' below by your code to do the proper extraction\n",
    "cinderella_hate_ratings = None\n",
    "\n",
    "# add your printing statement here"
   ]
  },
  {
   "cell_type": "markdown",
   "metadata": {},
   "source": [
    "We might as well check the demographics characteristics of the people who gave Cinderella such a low score.\n",
    "\n",
    "Demographics info is available in the file at location <code>movielens_paths['u.user']</code>.\n",
    "As we stated before, this info is pipe-separated, a sample line is:\n",
    "\n",
    "<code>14|45|M|scientist|55106</code>.\n",
    "\n",
    "The values indicated correspond to the elements\n",
    "\n",
    "<code>user_ID|age|gender|occupation|ZIP_code</code>.\n",
    "\n",
    "## Question\n",
    "Read the user demographics data into a variable <code>user_data</code>."
   ]
  },
  {
   "cell_type": "code",
   "execution_count": null,
   "metadata": {
    "collapsed": true
   },
   "outputs": [],
   "source": [
    "user_data = None # replace None by your code\n",
    "\n",
    "# Uncomment the following line to display the demographics information of the Cinderella haters.\n",
    "# user_data.loc[user_data['user_id'].isin(cinderella_hate_ratings['user_id'])]"
   ]
  },
  {
   "cell_type": "markdown",
   "metadata": {},
   "source": [
    "## Selecting data of interest\n",
    "We only want to keep ratings for the movies we are interested in. For this, we can make use of membership testing on our <code>movies_considered</code> variable:"
   ]
  },
  {
   "cell_type": "code",
   "execution_count": null,
   "metadata": {
    "collapsed": true
   },
   "outputs": [],
   "source": [
    "ratings_for_movies = all_rating_data.loc[all_rating_data['movie_id'].isin(movies_considered)]"
   ]
  },
  {
   "cell_type": "code",
   "execution_count": null,
   "metadata": {
    "collapsed": false
   },
   "outputs": [],
   "source": [
    "# how many ratings do we have for our considered movies?\n",
    "len(ratings_for_movies)"
   ]
  },
  {
   "cell_type": "markdown",
   "metadata": {},
   "source": [
    "pandas offers <code>unique()</code> and <code>nunique()</code> functions which are similar to <code>DISTINCT</code> and <code>COUNT(DISTINCT)</code> in SQL:"
   ]
  },
  {
   "cell_type": "code",
   "execution_count": null,
   "metadata": {
    "collapsed": false
   },
   "outputs": [],
   "source": [
    "# how many unique users gave the ratings for our movies of interest?\n",
    "print(ratings_for_movies['user_id'].nunique())"
   ]
  },
  {
   "cell_type": "markdown",
   "metadata": {},
   "source": [
    "## Question\n",
    "What is the sparsity proportion of the user-item matrix of the <code>ratings_for_movies</code> data?\n",
    "\n",
    "That is, what is the ratio of zero-valued (so unrated) items over the total number of elements in the user-item matrix?"
   ]
  },
  {
   "cell_type": "code",
   "execution_count": null,
   "metadata": {
    "collapsed": false
   },
   "outputs": [],
   "source": [
    "# replace the code below by your code to compute the sparsity proportion\n",
    "3 / 4.0"
   ]
  },
  {
   "cell_type": "markdown",
   "metadata": {},
   "source": [
    "## Starting small: focusing on actively rating users\n",
    "As a first small example, let's first focus on a small set of users.\n",
    "\n",
    "Let's say we want to select the 10 users who rated most of the movies of our interest.\n",
    "\n",
    "Using <code>groupby</code> and <code>unique()</code>, we can flatten our rating table to collect a single list of rated movies per unique user ID:"
   ]
  },
  {
   "cell_type": "code",
   "execution_count": null,
   "metadata": {
    "collapsed": false
   },
   "outputs": [],
   "source": [
    "users_to_rated_movies = ratings_for_movies.groupby('user_id')['movie_id'].unique()\n",
    "# which movie IDs were rated by user 1?\n",
    "users_to_rated_movies[1]"
   ]
  },
  {
   "cell_type": "markdown",
   "metadata": {},
   "source": [
    "But we can also directly call <code>nunique()</code> to find the number of rated movies per user:"
   ]
  },
  {
   "cell_type": "code",
   "execution_count": null,
   "metadata": {
    "collapsed": false
   },
   "outputs": [],
   "source": [
    "users_to_rating_count = ratings_for_movies.groupby('user_id')['movie_id'].nunique()\n",
    "# how many movies were rated by user 1?\n",
    "users_to_rating_count[1]"
   ]
  },
  {
   "cell_type": "markdown",
   "metadata": {},
   "source": [
    "To identify the most active users, we sort the user IDS based on the amount of movies they rated, in descending order."
   ]
  },
  {
   "cell_type": "code",
   "execution_count": null,
   "metadata": {
    "collapsed": false
   },
   "outputs": [],
   "source": [
    "users_sorted_by_rating_count = users_to_rating_count.sort_values(ascending = False)\n",
    "print(users_sorted_by_rating_count.head())"
   ]
  },
  {
   "cell_type": "markdown",
   "metadata": {},
   "source": [
    "We now select the 10 most active users."
   ]
  },
  {
   "cell_type": "code",
   "execution_count": null,
   "metadata": {
    "collapsed": false
   },
   "outputs": [],
   "source": [
    "users_considered = users_sorted_by_rating_count[0:10].keys()\n",
    "# again, for convenience we sort our table\n",
    "users_considered = sorted(users_considered)\n",
    "\n",
    "# is user 1 among the most active users?\n",
    "print(1 in users_considered)\n",
    "# is user 13 among the most active users?\n",
    "print(13 in users_considered)"
   ]
  },
  {
   "cell_type": "code",
   "execution_count": null,
   "metadata": {
    "collapsed": false
   },
   "outputs": [],
   "source": [
    "# If you want to see the demographics of the selected users, uncomment the following line.\n",
    "# user_data.loc[user_data['user_id'].isin(users_considered)]"
   ]
  },
  {
   "cell_type": "markdown",
   "metadata": {},
   "source": [
    "## Preparing the matrix factorization\n",
    "We now know what movies we are interested in, and what users we are interested in. Now all we need to do is establishing a user-item matrix, and applying factorization on it.\n",
    "\n",
    "We use numpy for handling matrices."
   ]
  },
  {
   "cell_type": "code",
   "execution_count": null,
   "metadata": {
    "collapsed": true
   },
   "outputs": [],
   "source": [
    "import numpy as np"
   ]
  },
  {
   "cell_type": "markdown",
   "metadata": {},
   "source": [
    "## Question\n",
    "What are the dimensions of the user-item matrix, which we will call $\\mathbf{R}$ (as it holds ratings)?\n",
    "\n",
    "Enter the appropriate number of rows and columns below, so we can initialize an all-zero matrix with the proper size."
   ]
  },
  {
   "cell_type": "code",
   "execution_count": null,
   "metadata": {
    "collapsed": true
   },
   "outputs": [],
   "source": [
    "num_rows = 1000 # Replace 1000 by the desired number of rows\n",
    "num_columns = 1000 # Replace 1000 by the desired number of columns\n",
    "\n",
    "R = np.zeros((num_rows, num_columns))"
   ]
  },
  {
   "cell_type": "markdown",
   "metadata": {},
   "source": [
    "There is one more thing to resolve. Our user IDs and movie IDs are numbers, but they do not reflect the desired coordinates in a user-item matrix.\n",
    "\n",
    "That is, R[0,0] should reflect the rating of 'the first user' on 'the first movie'."
   ]
  },
  {
   "cell_type": "code",
   "execution_count": null,
   "metadata": {
    "collapsed": false
   },
   "outputs": [],
   "source": [
    "# What is the lowest user ID we have?\n",
    "print(users_considered[0])\n",
    "# What is the lowest movie ID we have?\n",
    "print(movies_considered[0])\n",
    "print('So, R[0,0] should reflect the rating of user %d on movie %d.' % (users_considered[0], movies_considered[0]))"
   ]
  },
  {
   "cell_type": "markdown",
   "metadata": {},
   "source": [
    "We therefore will create lookup maps, which map user and movie IDs to a matrix row/column index [0, 1, 2...], and the other way around."
   ]
  },
  {
   "cell_type": "code",
   "execution_count": null,
   "metadata": {
    "collapsed": false
   },
   "outputs": [],
   "source": [
    "user_to_index = dict(zip(users_considered, range(len(users_considered))))\n",
    "movie_to_index = dict(zip(movies_considered, range(len(movies_considered))))\n",
    "index_to_user = dict(zip(user_to_index.values(), user_to_index.keys()))      \n",
    "index_to_movie = dict(zip(movie_to_index.values(), movie_to_index.keys()))\n",
    "\n",
    "# feel free to print them to verify that the mapping worked out correctly.\n",
    "# Note that the keys() of a dictionary are not necessarily returned in order."
   ]
  },
  {
   "cell_type": "markdown",
   "metadata": {},
   "source": [
    "At last, we now will populate the user-item matrix.\n",
    "\n",
    "We do this by iterating over the relevant data frame rows, and then extracting the movie ID and rating score in case we encounter a user of interest."
   ]
  },
  {
   "cell_type": "code",
   "execution_count": null,
   "metadata": {
    "collapsed": false
   },
   "outputs": [],
   "source": [
    "for index, row in ratings_for_movies.iterrows():\n",
    "    if row['user_id'] in users_considered:\n",
    "        i = user_to_index[row['user_id']]\n",
    "        j = movie_to_index[row['movie_id']]\n",
    "        R[i, j] = row['rating']"
   ]
  },
  {
   "cell_type": "code",
   "execution_count": null,
   "metadata": {
    "collapsed": false
   },
   "outputs": [],
   "source": [
    "# What is the user-item matrix looking like?\n",
    "print(R)"
   ]
  },
  {
   "cell_type": "markdown",
   "metadata": {},
   "source": [
    "For applying the matrix factorization, we use the <code>svd()</code> function in <code>scipy.linalg</code> here.\n",
    "\n",
    "*Note that there are a few Singular Value Decomposition implementations offered by scipy and scikits-learn, also with dedicated approaches targeted at sparse matrices. But for our current smaller samples, the regular SVD works fine.*"
   ]
  },
  {
   "cell_type": "code",
   "execution_count": null,
   "metadata": {
    "collapsed": true
   },
   "outputs": [],
   "source": [
    "import scipy.linalg"
   ]
  },
  {
   "cell_type": "code",
   "execution_count": null,
   "metadata": {
    "collapsed": false
   },
   "outputs": [],
   "source": [
    "# How to call the SVD function?\n",
    "help(scipy.linalg.svd)"
   ]
  },
  {
   "cell_type": "markdown",
   "metadata": {},
   "source": [
    "We now perform the SVD. Then, we can express $\\mathbf{R}$ as\n",
    "\n",
    "$$\\mathbf{R} = \\mathbf{U} \\mathbf{\\Sigma} \\mathbf{V^T}$$\n",
    "\n",
    "with $\\mathbf{U}$ being an orthonormal matrix expressing user-related factors,\n",
    "$\\mathbf{\\Sigma}$ being a diagonal matrix expressing singular values of decreasing weight,\n",
    "and $\\mathbf{V}$ being an orthonormal matrix expressing movie-related factors,\n"
   ]
  },
  {
   "cell_type": "code",
   "execution_count": null,
   "metadata": {
    "collapsed": false
   },
   "outputs": [],
   "source": [
    "U, S, Vt = scipy.linalg.svd(R, full_matrices=False)"
   ]
  },
  {
   "cell_type": "code",
   "execution_count": null,
   "metadata": {
    "collapsed": false
   },
   "outputs": [],
   "source": [
    "print(U.shape)\n",
    "print(S.shape)\n",
    "print(Vt.shape)"
   ]
  },
  {
   "cell_type": "code",
   "execution_count": null,
   "metadata": {
    "collapsed": false
   },
   "outputs": [],
   "source": [
    "# What are the first 10 singular values?\n",
    "print(S[0:10])"
   ]
  },
  {
   "cell_type": "markdown",
   "metadata": {},
   "source": [
    "## Plotting movies in latent factor space\n",
    "Based on our analysis, we will plot the movies in latent factor space to see to what extent they cluster or contrast.\n",
    "\n",
    "For the plotting, we will use matplotlib:"
   ]
  },
  {
   "cell_type": "code",
   "execution_count": null,
   "metadata": {
    "collapsed": false
   },
   "outputs": [],
   "source": [
    "import matplotlib.pyplot as plt\n",
    "%matplotlib inline\n",
    "# add the 'magic' function above to ensure plots are rendered within the notebook"
   ]
  },
  {
   "cell_type": "markdown",
   "metadata": {},
   "source": [
    "## Make 2D scatterplots of factor weights\n",
    "We select the indices corresponding to the factors we want to examine.\n",
    "\n",
    "Let's first take the first two factors, as they have the strongest weight."
   ]
  },
  {
   "cell_type": "code",
   "execution_count": null,
   "metadata": {
    "collapsed": true
   },
   "outputs": [],
   "source": [
    "factor_x_index = 0\n",
    "factor_y_index = 1"
   ]
  },
  {
   "cell_type": "markdown",
   "metadata": {},
   "source": [
    "Then, we can use the <code>scatter</code> function to draw a scatter plot."
   ]
  },
  {
   "cell_type": "code",
   "execution_count": null,
   "metadata": {
    "collapsed": false
   },
   "outputs": [],
   "source": [
    "# Recall that Vt is holding the movie-related factors\n",
    "plt.scatter(Vt[factor_x_index,:], Vt[factor_y_index,:])\n",
    "for movie_index in range(len(movies_considered)):\n",
    "    plt.annotate(\n",
    "        movie_data[index_to_movie[movie_index]],\n",
    "        (Vt[factor_x_index, movie_index], Vt[factor_y_index, movie_index]))\n",
    "plt.xlabel('factor %d' % (factor_x_index + 1))\n",
    "plt.ylabel('factor %d' % (factor_y_index + 1))\n",
    "# optional: save higher-resolution *.png locally\n",
    "# plt.savefig('name_of_plot', ext='png', dpi=150)\n",
    "plt.show()"
   ]
  },
  {
   "cell_type": "markdown",
   "metadata": {},
   "source": [
    "## Rating prediction using matrix factorization\n",
    "We can use matrix factorization to predict user ratings.\n",
    "\n",
    "Looking at our 10 users, let's remove one from the user-item matrix, and try to predict the ratings for this user.\n",
    "\n",
    "Say we remove the fourth user from <code>users_considered</code>:"
   ]
  },
  {
   "cell_type": "code",
   "execution_count": null,
   "metadata": {
    "collapsed": false
   },
   "outputs": [],
   "source": [
    "user_to_predict = users_considered[3]\n",
    "ratings_to_predict = R[3,:]\n",
    "print('to predict: %s for user %s.' % (ratings_to_predict, user_to_predict))"
   ]
  },
  {
   "cell_type": "markdown",
   "metadata": {},
   "source": [
    "We remove this user from R and re-establish the factorization on the new matrix."
   ]
  },
  {
   "cell_type": "code",
   "execution_count": null,
   "metadata": {
    "collapsed": false
   },
   "outputs": [],
   "source": [
    "# remove the user from users_considered\n",
    "users_considered.remove(users_considered[3])\n",
    "# redo the lookup indices\n",
    "user_to_index = dict(zip(users_considered, range(len(users_considered))))\n",
    "index_to_user = dict(zip(user_to_index.values(), user_to_index.keys()))      \n",
    "\n",
    "# remove user from R\n",
    "R = np.delete(R, (3), axis=0)\n",
    "R"
   ]
  },
  {
   "cell_type": "code",
   "execution_count": null,
   "metadata": {
    "collapsed": true
   },
   "outputs": [],
   "source": [
    "# redo the SVD\n",
    "U, S, Vt = scipy.linalg.svd(R, full_matrices=False)"
   ]
  },
  {
   "cell_type": "code",
   "execution_count": null,
   "metadata": {
    "collapsed": false
   },
   "outputs": [],
   "source": [
    "# make a new scatter plot\n",
    "plt.scatter(Vt[factor_x_index,:], Vt[factor_y_index,:])\n",
    "for movie_index in range(len(movies_considered)):\n",
    "    plt.annotate(\n",
    "        movie_data[index_to_movie[movie_index]],\n",
    "        (Vt[factor_x_index, movie_index], Vt[factor_y_index, movie_index]))\n",
    "plt.xlabel('factor %d' % (factor_x_index + 1))\n",
    "plt.ylabel('factor %d' % (factor_y_index + 1))\n",
    "plt.show()"
   ]
  },
  {
   "cell_type": "markdown",
   "metadata": {},
   "source": [
    "Note how this plot differs from your previous scatter plot.\n",
    "\n",
    "The SVD solving approach suffers from sign indeterminacy, which means that the sign corresponding to a factor may flip for different initializations. Still, internal relationships should reasonably hold, and that indeed is the case (e.g. on factor 2, Psycho and Evita are still strong opposites).\n",
    "\n",
    "## Performing rating prediction\n",
    "Say we will only consider the first two factors, and try to predict the ratings using this model for our user 222.\n",
    "\n",
    "We will first project the user's rating into 2D factor space by multiplying with $\\mathbf{V}$:"
   ]
  },
  {
   "cell_type": "code",
   "execution_count": null,
   "metadata": {
    "collapsed": false
   },
   "outputs": [],
   "source": [
    "ratings_to_predict_2d = np.dot(ratings_to_predict, Vt[0:2,:].transpose())"
   ]
  },
  {
   "cell_type": "markdown",
   "metadata": {},
   "source": [
    "Then, reconstruct the data by multiplying with  $\\mathbf{V^T}$:"
   ]
  },
  {
   "cell_type": "code",
   "execution_count": null,
   "metadata": {
    "collapsed": false
   },
   "outputs": [],
   "source": [
    "ratings_to_predict_reconstructed = np.dot(ratings_to_predict_2d, Vt[0:2,:])\n",
    "print(ratings_to_predict_reconstructed)\n",
    "print(ratings_to_predict)"
   ]
  },
  {
   "cell_type": "markdown",
   "metadata": {},
   "source": [
    "To get a better feel for how accurate the prediction is, implement the RMSE measure:"
   ]
  },
  {
   "cell_type": "code",
   "execution_count": null,
   "metadata": {
    "collapsed": false
   },
   "outputs": [],
   "source": [
    "def RMSE(array1, array2):\n",
    "    # Replace -1 by a proper RMSE implementation.\n",
    "    # You will at least need np.sqrt() -- consult the numpy documentation and use the IPython tab completion to further\n",
    "    # establish the necessary functionality.\n",
    "    return -1\n",
    "\n",
    "# what is the RMSE for our example?\n",
    "RMSE(ratings_to_predict, ratings_to_predict_reconstructed)"
   ]
  },
  {
   "cell_type": "markdown",
   "metadata": {},
   "source": [
    "## I don't see how this SVD reconstruction works?\n",
    "If you need to read up on your SVD background, check http://infolab.stanford.edu/~ullman/mmds/ch11.pdf and the corresponding examples."
   ]
  },
  {
   "cell_type": "markdown",
   "metadata": {},
   "source": [
    "## Wrapping up this lab assignment\n",
    "We now gave you examples of how to perform matrix factorization on a movie ratings dataset.\n",
    "\n",
    "For your lab course deliverable of this week, please play around with these examples more, and examine at least the effect of using different sizes of user populations.\n",
    "\n",
    "* Our current example only used 10 (or 9) users, what would happen if you use slightly more, or many more? How are the main latent factors affected, how is RMSE affected?\n",
    "\n",
    "* In the scatter plot, play around with different factors. Instead of the first two, you can for example also test the first and the third.\n",
    "\n",
    "* Optional: What would happen to the factorization if you would include other movies? Some nice ones to try are:\n",
    "<code>\n",
    "movieID 127: 'Godfather, The (1972)'\n",
    "movieID 423: 'E.T. the Extra-Terrestrial (1982)'\n",
    "movieID 485: 'My Fair Lady (1964)'\n",
    "</code>\n",
    "but feel free to consult <code>u.item</code> to select the IDs and titles of movies you find interesting.\n",
    "\n",
    "As indicated above, hand in a \\*.pdf report named<code>[Your_Name].pdf</code> in which you include **three** latent factor scatter plots, obtained for **three different input data slices**, which at least differ in terms of user population size (so the size of <code>users_considered</code>.\n",
    "\n",
    "For each of the scatter plots, do two things:\n",
    "  * specify the characteristics of your input data;\n",
    "  * based on each plot, give a possible interpretation of what the factors represented by the x and y axes of your plot may indicate.\n",
    "\n",
    "You can simply retrieve the scatter plot images for your report by right-clicking on the images ('Save image as').\n",
    "\n",
    "Alternatively, you can export higher-resolution images through <code>savefig</code>, e.g.\n",
    "\n",
    "<code>$ plt.savefig('name_of_plot', ext='png', dpi=150)</code>.\n",
    "\n",
    "Place this call before calling <code>plt.show()</code>; also see the commented line accompanying the first scatter plot.\n"
   ]
  }
 ],
 "metadata": {
  "kernelspec": {
   "display_name": "Python 3",
   "language": "python",
   "name": "python3"
  },
  "language_info": {
   "codemirror_mode": {
    "name": "ipython",
    "version": 3
   },
   "file_extension": ".py",
   "mimetype": "text/x-python",
   "name": "python",
   "nbconvert_exporter": "python",
   "pygments_lexer": "ipython3",
   "version": "3.5.1"
  }
 },
 "nbformat": 4,
 "nbformat_minor": 0
}
